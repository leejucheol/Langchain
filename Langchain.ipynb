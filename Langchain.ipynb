{
  "cells": [
    {
      "cell_type": "markdown",
      "metadata": {
        "id": "h1FqhkSOQ55n"
      },
      "source": [
        "\n",
        "LangChain과 ChromaDB를 이용한 간단한 검색 시스템 구축(LLM 없음)\n",
        "\n",
        "목적:\n",
        "\n",
        "LangChain과 ChromaDB를 활용해 문서 검색 시스템을 구축하고, 한국어 데이터세트에서 가장 관련성이 높은 문서나 텍스트 조각을 반환하여 질의에 답한다.\n",
        "\n",
        "1. 환경 설정\n",
        "\n",
        "필요한 라이브러리를 설치:\n",
        "LangChain\n",
        "Chroma DB\n",
        "개발에는 Python IDE 사용 (VScode)\n",
        "\n",
        "2. 소규모 데이터 세트 준비\n",
        "\n",
        "100-200개 항목으로 한국어 데이터 세트를 만들거나 다운로드.\n",
        ": 한국 속담과 그 의미.\n",
        "( 간단한 설명과 함께 소개된 한국의 유명한 역사적 사건 목록,\n",
        "인기 있는 한국 요리와 재료 )\n",
        "데이터 세트를 제목과 설명이 두 개의 열로 구성되어있는 CSV 파일로 포맷한다.\n",
        "\n",
        "3. ChromaDB에 데이터 로드\n",
        "\n",
        "데이터 세트를 사전 처리한다.\n",
        "LangChain 호환 임베딩 모델을 사용하여 설명 열을 벡터 임베딩으로 변환한다.\n",
        "ChromaDB 데이터베이스에 임베딩을 저장한다.\n",
        "\n",
        "4. 검색 파이프라인 구현\n",
        "\n",
        "다음과 같은 쿼리 시스템을 만듭니다.\n",
        "The user inputs a query in Korean (e.g., “~~~ 속담 뜻이 뭐야? ”).\n",
        "시스템은 쿼리와의 유사성을 기반으로 ChromaDB 데이터베이스에서 가장 관련성 있는 설명을 검색한다.\n",
        "\n",
        "5. 검색 결과 평가\n",
        "\n",
        "20~30개의 쿼리로 시스템을 테스트하고 검색된 결과의 정확성을 수동으로 확인한다.\n",
        "예시 쿼리:\n",
        "“다음 속담의 의미를 설명하시오: 하늘이 무너져도 솟아날 구멍이 있다.\"\n",
        "\n",
        "6. 성과물\n",
        "\n",
        "검색 시스템을 구현하는 Python 스크립트\n",
        "데이터 세트에 대한 설명.\n",
        "검색 과정에 대한 설명.\n",
        "테스트 쿼리의 결과(입력 및 검색된 설명).\n",
        "직면한 과제와 실행된 해결책."
      ]
    },
    {
      "cell_type": "code",
      "execution_count": 1,
      "metadata": {
        "collapsed": true,
        "id": "Fay-28sAKcIY"
      },
      "outputs": [
        {
          "name": "stdout",
          "output_type": "stream",
          "text": [
            "Requirement already satisfied: langchain in c:\\users\\jclle\\appdata\\local\\programs\\python\\python313\\lib\\site-packages (0.3.25)\n",
            "Requirement already satisfied: chromadb in c:\\users\\jclle\\appdata\\local\\programs\\python\\python313\\lib\\site-packages (1.0.12)\n",
            "Requirement already satisfied: langchain-core<1.0.0,>=0.3.58 in c:\\users\\jclle\\appdata\\local\\programs\\python\\python313\\lib\\site-packages (from langchain) (0.3.65)\n",
            "Requirement already satisfied: langchain-text-splitters<1.0.0,>=0.3.8 in c:\\users\\jclle\\appdata\\local\\programs\\python\\python313\\lib\\site-packages (from langchain) (0.3.8)\n",
            "Requirement already satisfied: langsmith<0.4,>=0.1.17 in c:\\users\\jclle\\appdata\\local\\programs\\python\\python313\\lib\\site-packages (from langchain) (0.3.45)\n",
            "Requirement already satisfied: pydantic<3.0.0,>=2.7.4 in c:\\users\\jclle\\appdata\\local\\programs\\python\\python313\\lib\\site-packages (from langchain) (2.11.3)\n",
            "Requirement already satisfied: SQLAlchemy<3,>=1.4 in c:\\users\\jclle\\appdata\\local\\programs\\python\\python313\\lib\\site-packages (from langchain) (2.0.40)\n",
            "Requirement already satisfied: requests<3,>=2 in c:\\users\\jclle\\appdata\\local\\programs\\python\\python313\\lib\\site-packages (from langchain) (2.32.3)\n",
            "Requirement already satisfied: PyYAML>=5.3 in c:\\users\\jclle\\appdata\\local\\programs\\python\\python313\\lib\\site-packages (from langchain) (6.0.2)\n",
            "Requirement already satisfied: tenacity!=8.4.0,<10.0.0,>=8.1.0 in c:\\users\\jclle\\appdata\\local\\programs\\python\\python313\\lib\\site-packages (from langchain-core<1.0.0,>=0.3.58->langchain) (9.1.2)\n",
            "Requirement already satisfied: jsonpatch<2.0,>=1.33 in c:\\users\\jclle\\appdata\\local\\programs\\python\\python313\\lib\\site-packages (from langchain-core<1.0.0,>=0.3.58->langchain) (1.33)\n",
            "Requirement already satisfied: packaging<25,>=23.2 in c:\\users\\jclle\\appdata\\roaming\\python\\python313\\site-packages (from langchain-core<1.0.0,>=0.3.58->langchain) (24.2)\n",
            "Requirement already satisfied: typing-extensions>=4.7 in c:\\users\\jclle\\appdata\\local\\programs\\python\\python313\\lib\\site-packages (from langchain-core<1.0.0,>=0.3.58->langchain) (4.13.1)\n",
            "Requirement already satisfied: jsonpointer>=1.9 in c:\\users\\jclle\\appdata\\local\\programs\\python\\python313\\lib\\site-packages (from jsonpatch<2.0,>=1.33->langchain-core<1.0.0,>=0.3.58->langchain) (3.0.0)\n",
            "Requirement already satisfied: httpx<1,>=0.23.0 in c:\\users\\jclle\\appdata\\local\\programs\\python\\python313\\lib\\site-packages (from langsmith<0.4,>=0.1.17->langchain) (0.28.1)\n",
            "Requirement already satisfied: orjson<4.0.0,>=3.9.14 in c:\\users\\jclle\\appdata\\local\\programs\\python\\python313\\lib\\site-packages (from langsmith<0.4,>=0.1.17->langchain) (3.10.18)\n",
            "Requirement already satisfied: requests-toolbelt<2.0.0,>=1.0.0 in c:\\users\\jclle\\appdata\\local\\programs\\python\\python313\\lib\\site-packages (from langsmith<0.4,>=0.1.17->langchain) (1.0.0)\n",
            "Requirement already satisfied: zstandard<0.24.0,>=0.23.0 in c:\\users\\jclle\\appdata\\local\\programs\\python\\python313\\lib\\site-packages (from langsmith<0.4,>=0.1.17->langchain) (0.23.0)\n",
            "Requirement already satisfied: anyio in c:\\users\\jclle\\appdata\\local\\programs\\python\\python313\\lib\\site-packages (from httpx<1,>=0.23.0->langsmith<0.4,>=0.1.17->langchain) (4.9.0)\n",
            "Requirement already satisfied: certifi in c:\\users\\jclle\\appdata\\local\\programs\\python\\python313\\lib\\site-packages (from httpx<1,>=0.23.0->langsmith<0.4,>=0.1.17->langchain) (2025.1.31)\n",
            "Requirement already satisfied: httpcore==1.* in c:\\users\\jclle\\appdata\\local\\programs\\python\\python313\\lib\\site-packages (from httpx<1,>=0.23.0->langsmith<0.4,>=0.1.17->langchain) (1.0.8)\n",
            "Requirement already satisfied: idna in c:\\users\\jclle\\appdata\\local\\programs\\python\\python313\\lib\\site-packages (from httpx<1,>=0.23.0->langsmith<0.4,>=0.1.17->langchain) (3.10)\n",
            "Requirement already satisfied: h11<0.15,>=0.13 in c:\\users\\jclle\\appdata\\local\\programs\\python\\python313\\lib\\site-packages (from httpcore==1.*->httpx<1,>=0.23.0->langsmith<0.4,>=0.1.17->langchain) (0.14.0)\n",
            "Requirement already satisfied: annotated-types>=0.6.0 in c:\\users\\jclle\\appdata\\local\\programs\\python\\python313\\lib\\site-packages (from pydantic<3.0.0,>=2.7.4->langchain) (0.7.0)\n",
            "Requirement already satisfied: pydantic-core==2.33.1 in c:\\users\\jclle\\appdata\\local\\programs\\python\\python313\\lib\\site-packages (from pydantic<3.0.0,>=2.7.4->langchain) (2.33.1)\n",
            "Requirement already satisfied: typing-inspection>=0.4.0 in c:\\users\\jclle\\appdata\\local\\programs\\python\\python313\\lib\\site-packages (from pydantic<3.0.0,>=2.7.4->langchain) (0.4.0)\n",
            "Requirement already satisfied: charset-normalizer<4,>=2 in c:\\users\\jclle\\appdata\\local\\programs\\python\\python313\\lib\\site-packages (from requests<3,>=2->langchain) (3.4.1)\n",
            "Requirement already satisfied: urllib3<3,>=1.21.1 in c:\\users\\jclle\\appdata\\local\\programs\\python\\python313\\lib\\site-packages (from requests<3,>=2->langchain) (2.3.0)\n",
            "Requirement already satisfied: greenlet>=1 in c:\\users\\jclle\\appdata\\local\\programs\\python\\python313\\lib\\site-packages (from SQLAlchemy<3,>=1.4->langchain) (3.2.1)\n",
            "Requirement already satisfied: build>=1.0.3 in c:\\users\\jclle\\appdata\\local\\programs\\python\\python313\\lib\\site-packages (from chromadb) (1.2.2.post1)\n",
            "Requirement already satisfied: fastapi==0.115.9 in c:\\users\\jclle\\appdata\\local\\programs\\python\\python313\\lib\\site-packages (from chromadb) (0.115.9)\n",
            "Requirement already satisfied: uvicorn>=0.18.3 in c:\\users\\jclle\\appdata\\local\\programs\\python\\python313\\lib\\site-packages (from uvicorn[standard]>=0.18.3->chromadb) (0.34.2)\n",
            "Requirement already satisfied: numpy>=1.22.5 in c:\\users\\jclle\\appdata\\local\\programs\\python\\python313\\lib\\site-packages (from chromadb) (2.2.4)\n",
            "Requirement already satisfied: posthog>=2.4.0 in c:\\users\\jclle\\appdata\\local\\programs\\python\\python313\\lib\\site-packages (from chromadb) (4.8.0)\n",
            "Requirement already satisfied: onnxruntime>=1.14.1 in c:\\users\\jclle\\appdata\\local\\programs\\python\\python313\\lib\\site-packages (from chromadb) (1.22.0)\n",
            "Requirement already satisfied: opentelemetry-api>=1.2.0 in c:\\users\\jclle\\appdata\\local\\programs\\python\\python313\\lib\\site-packages (from chromadb) (1.34.1)\n",
            "Requirement already satisfied: opentelemetry-exporter-otlp-proto-grpc>=1.2.0 in c:\\users\\jclle\\appdata\\local\\programs\\python\\python313\\lib\\site-packages (from chromadb) (1.34.1)\n",
            "Requirement already satisfied: opentelemetry-instrumentation-fastapi>=0.41b0 in c:\\users\\jclle\\appdata\\local\\programs\\python\\python313\\lib\\site-packages (from chromadb) (0.55b1)\n",
            "Requirement already satisfied: opentelemetry-sdk>=1.2.0 in c:\\users\\jclle\\appdata\\local\\programs\\python\\python313\\lib\\site-packages (from chromadb) (1.34.1)\n",
            "Requirement already satisfied: tokenizers>=0.13.2 in c:\\users\\jclle\\appdata\\local\\programs\\python\\python313\\lib\\site-packages (from chromadb) (0.21.1)\n",
            "Requirement already satisfied: pypika>=0.48.9 in c:\\users\\jclle\\appdata\\local\\programs\\python\\python313\\lib\\site-packages (from chromadb) (0.48.9)\n",
            "Requirement already satisfied: tqdm>=4.65.0 in c:\\users\\jclle\\appdata\\local\\programs\\python\\python313\\lib\\site-packages (from chromadb) (4.67.1)\n",
            "Requirement already satisfied: overrides>=7.3.1 in c:\\users\\jclle\\appdata\\local\\programs\\python\\python313\\lib\\site-packages (from chromadb) (7.7.0)\n",
            "Requirement already satisfied: importlib-resources in c:\\users\\jclle\\appdata\\local\\programs\\python\\python313\\lib\\site-packages (from chromadb) (6.5.2)\n",
            "Requirement already satisfied: grpcio>=1.58.0 in c:\\users\\jclle\\appdata\\local\\programs\\python\\python313\\lib\\site-packages (from chromadb) (1.73.0)\n",
            "Requirement already satisfied: bcrypt>=4.0.1 in c:\\users\\jclle\\appdata\\local\\programs\\python\\python313\\lib\\site-packages (from chromadb) (4.3.0)\n",
            "Requirement already satisfied: typer>=0.9.0 in c:\\users\\jclle\\appdata\\local\\programs\\python\\python313\\lib\\site-packages (from chromadb) (0.16.0)\n",
            "Requirement already satisfied: kubernetes>=28.1.0 in c:\\users\\jclle\\appdata\\local\\programs\\python\\python313\\lib\\site-packages (from chromadb) (33.1.0)\n",
            "Requirement already satisfied: mmh3>=4.0.1 in c:\\users\\jclle\\appdata\\local\\programs\\python\\python313\\lib\\site-packages (from chromadb) (5.1.0)\n",
            "Requirement already satisfied: rich>=10.11.0 in c:\\users\\jclle\\appdata\\local\\programs\\python\\python313\\lib\\site-packages (from chromadb) (14.0.0)\n",
            "Requirement already satisfied: jsonschema>=4.19.0 in c:\\users\\jclle\\appdata\\local\\programs\\python\\python313\\lib\\site-packages (from chromadb) (4.24.0)\n",
            "Requirement already satisfied: starlette<0.46.0,>=0.40.0 in c:\\users\\jclle\\appdata\\local\\programs\\python\\python313\\lib\\site-packages (from fastapi==0.115.9->chromadb) (0.45.3)\n",
            "Requirement already satisfied: sniffio>=1.1 in c:\\users\\jclle\\appdata\\local\\programs\\python\\python313\\lib\\site-packages (from anyio->httpx<1,>=0.23.0->langsmith<0.4,>=0.1.17->langchain) (1.3.1)\n",
            "Requirement already satisfied: pyproject_hooks in c:\\users\\jclle\\appdata\\local\\programs\\python\\python313\\lib\\site-packages (from build>=1.0.3->chromadb) (1.2.0)\n",
            "Requirement already satisfied: colorama in c:\\users\\jclle\\appdata\\roaming\\python\\python313\\site-packages (from build>=1.0.3->chromadb) (0.4.6)\n",
            "Requirement already satisfied: attrs>=22.2.0 in c:\\users\\jclle\\appdata\\local\\programs\\python\\python313\\lib\\site-packages (from jsonschema>=4.19.0->chromadb) (25.3.0)\n",
            "Requirement already satisfied: jsonschema-specifications>=2023.03.6 in c:\\users\\jclle\\appdata\\local\\programs\\python\\python313\\lib\\site-packages (from jsonschema>=4.19.0->chromadb) (2025.4.1)\n",
            "Requirement already satisfied: referencing>=0.28.4 in c:\\users\\jclle\\appdata\\local\\programs\\python\\python313\\lib\\site-packages (from jsonschema>=4.19.0->chromadb) (0.36.2)\n",
            "Requirement already satisfied: rpds-py>=0.7.1 in c:\\users\\jclle\\appdata\\local\\programs\\python\\python313\\lib\\site-packages (from jsonschema>=4.19.0->chromadb) (0.25.1)\n",
            "Requirement already satisfied: six>=1.9.0 in c:\\users\\jclle\\appdata\\roaming\\python\\python313\\site-packages (from kubernetes>=28.1.0->chromadb) (1.17.0)\n",
            "Requirement already satisfied: python-dateutil>=2.5.3 in c:\\users\\jclle\\appdata\\roaming\\python\\python313\\site-packages (from kubernetes>=28.1.0->chromadb) (2.9.0.post0)\n",
            "Requirement already satisfied: google-auth>=1.0.1 in c:\\users\\jclle\\appdata\\local\\programs\\python\\python313\\lib\\site-packages (from kubernetes>=28.1.0->chromadb) (2.40.3)\n",
            "Requirement already satisfied: websocket-client!=0.40.0,!=0.41.*,!=0.42.*,>=0.32.0 in c:\\users\\jclle\\appdata\\local\\programs\\python\\python313\\lib\\site-packages (from kubernetes>=28.1.0->chromadb) (1.8.0)\n",
            "Requirement already satisfied: requests-oauthlib in c:\\users\\jclle\\appdata\\local\\programs\\python\\python313\\lib\\site-packages (from kubernetes>=28.1.0->chromadb) (2.0.0)\n",
            "Requirement already satisfied: oauthlib>=3.2.2 in c:\\users\\jclle\\appdata\\local\\programs\\python\\python313\\lib\\site-packages (from kubernetes>=28.1.0->chromadb) (3.2.2)\n",
            "Requirement already satisfied: durationpy>=0.7 in c:\\users\\jclle\\appdata\\local\\programs\\python\\python313\\lib\\site-packages (from kubernetes>=28.1.0->chromadb) (0.10)\n",
            "Requirement already satisfied: cachetools<6.0,>=2.0.0 in c:\\users\\jclle\\appdata\\local\\programs\\python\\python313\\lib\\site-packages (from google-auth>=1.0.1->kubernetes>=28.1.0->chromadb) (5.5.2)\n",
            "Requirement already satisfied: pyasn1-modules>=0.2.1 in c:\\users\\jclle\\appdata\\local\\programs\\python\\python313\\lib\\site-packages (from google-auth>=1.0.1->kubernetes>=28.1.0->chromadb) (0.4.2)\n",
            "Requirement already satisfied: rsa<5,>=3.1.4 in c:\\users\\jclle\\appdata\\local\\programs\\python\\python313\\lib\\site-packages (from google-auth>=1.0.1->kubernetes>=28.1.0->chromadb) (4.9.1)\n",
            "Requirement already satisfied: pyasn1>=0.1.3 in c:\\users\\jclle\\appdata\\local\\programs\\python\\python313\\lib\\site-packages (from rsa<5,>=3.1.4->google-auth>=1.0.1->kubernetes>=28.1.0->chromadb) (0.6.1)\n",
            "Requirement already satisfied: coloredlogs in c:\\users\\jclle\\appdata\\local\\programs\\python\\python313\\lib\\site-packages (from onnxruntime>=1.14.1->chromadb) (15.0.1)\n",
            "Requirement already satisfied: flatbuffers in c:\\users\\jclle\\appdata\\local\\programs\\python\\python313\\lib\\site-packages (from onnxruntime>=1.14.1->chromadb) (25.2.10)\n",
            "Requirement already satisfied: protobuf in c:\\users\\jclle\\appdata\\local\\programs\\python\\python313\\lib\\site-packages (from onnxruntime>=1.14.1->chromadb) (5.29.5)\n",
            "Requirement already satisfied: sympy in c:\\users\\jclle\\appdata\\local\\programs\\python\\python313\\lib\\site-packages (from onnxruntime>=1.14.1->chromadb) (1.14.0)\n",
            "Requirement already satisfied: importlib-metadata<8.8.0,>=6.0 in c:\\users\\jclle\\appdata\\local\\programs\\python\\python313\\lib\\site-packages (from opentelemetry-api>=1.2.0->chromadb) (8.7.0)\n",
            "Requirement already satisfied: zipp>=3.20 in c:\\users\\jclle\\appdata\\local\\programs\\python\\python313\\lib\\site-packages (from importlib-metadata<8.8.0,>=6.0->opentelemetry-api>=1.2.0->chromadb) (3.23.0)\n",
            "Requirement already satisfied: googleapis-common-protos~=1.52 in c:\\users\\jclle\\appdata\\local\\programs\\python\\python313\\lib\\site-packages (from opentelemetry-exporter-otlp-proto-grpc>=1.2.0->chromadb) (1.70.0)\n",
            "Requirement already satisfied: opentelemetry-exporter-otlp-proto-common==1.34.1 in c:\\users\\jclle\\appdata\\local\\programs\\python\\python313\\lib\\site-packages (from opentelemetry-exporter-otlp-proto-grpc>=1.2.0->chromadb) (1.34.1)\n",
            "Requirement already satisfied: opentelemetry-proto==1.34.1 in c:\\users\\jclle\\appdata\\local\\programs\\python\\python313\\lib\\site-packages (from opentelemetry-exporter-otlp-proto-grpc>=1.2.0->chromadb) (1.34.1)\n",
            "Requirement already satisfied: opentelemetry-semantic-conventions==0.55b1 in c:\\users\\jclle\\appdata\\local\\programs\\python\\python313\\lib\\site-packages (from opentelemetry-sdk>=1.2.0->chromadb) (0.55b1)\n",
            "Requirement already satisfied: opentelemetry-instrumentation-asgi==0.55b1 in c:\\users\\jclle\\appdata\\local\\programs\\python\\python313\\lib\\site-packages (from opentelemetry-instrumentation-fastapi>=0.41b0->chromadb) (0.55b1)\n",
            "Requirement already satisfied: opentelemetry-instrumentation==0.55b1 in c:\\users\\jclle\\appdata\\local\\programs\\python\\python313\\lib\\site-packages (from opentelemetry-instrumentation-fastapi>=0.41b0->chromadb) (0.55b1)\n",
            "Requirement already satisfied: opentelemetry-util-http==0.55b1 in c:\\users\\jclle\\appdata\\local\\programs\\python\\python313\\lib\\site-packages (from opentelemetry-instrumentation-fastapi>=0.41b0->chromadb) (0.55b1)\n",
            "Requirement already satisfied: wrapt<2.0.0,>=1.0.0 in c:\\users\\jclle\\appdata\\local\\programs\\python\\python313\\lib\\site-packages (from opentelemetry-instrumentation==0.55b1->opentelemetry-instrumentation-fastapi>=0.41b0->chromadb) (1.17.2)\n",
            "Requirement already satisfied: asgiref~=3.0 in c:\\users\\jclle\\appdata\\local\\programs\\python\\python313\\lib\\site-packages (from opentelemetry-instrumentation-asgi==0.55b1->opentelemetry-instrumentation-fastapi>=0.41b0->chromadb) (3.8.1)\n",
            "Requirement already satisfied: backoff>=1.10.0 in c:\\users\\jclle\\appdata\\local\\programs\\python\\python313\\lib\\site-packages (from posthog>=2.4.0->chromadb) (2.2.1)\n",
            "Requirement already satisfied: distro>=1.5.0 in c:\\users\\jclle\\appdata\\local\\programs\\python\\python313\\lib\\site-packages (from posthog>=2.4.0->chromadb) (1.9.0)\n",
            "Requirement already satisfied: markdown-it-py>=2.2.0 in c:\\users\\jclle\\appdata\\local\\programs\\python\\python313\\lib\\site-packages (from rich>=10.11.0->chromadb) (3.0.0)\n",
            "Requirement already satisfied: pygments<3.0.0,>=2.13.0 in c:\\users\\jclle\\appdata\\roaming\\python\\python313\\site-packages (from rich>=10.11.0->chromadb) (2.19.1)\n",
            "Requirement already satisfied: mdurl~=0.1 in c:\\users\\jclle\\appdata\\local\\programs\\python\\python313\\lib\\site-packages (from markdown-it-py>=2.2.0->rich>=10.11.0->chromadb) (0.1.2)\n",
            "Requirement already satisfied: huggingface-hub<1.0,>=0.16.4 in c:\\users\\jclle\\appdata\\local\\programs\\python\\python313\\lib\\site-packages (from tokenizers>=0.13.2->chromadb) (0.30.2)\n",
            "Requirement already satisfied: filelock in c:\\users\\jclle\\appdata\\local\\programs\\python\\python313\\lib\\site-packages (from huggingface-hub<1.0,>=0.16.4->tokenizers>=0.13.2->chromadb) (3.18.0)\n",
            "Requirement already satisfied: fsspec>=2023.5.0 in c:\\users\\jclle\\appdata\\local\\programs\\python\\python313\\lib\\site-packages (from huggingface-hub<1.0,>=0.16.4->tokenizers>=0.13.2->chromadb) (2024.12.0)\n",
            "Requirement already satisfied: click>=8.0.0 in c:\\users\\jclle\\appdata\\local\\programs\\python\\python313\\lib\\site-packages (from typer>=0.9.0->chromadb) (8.1.8)\n",
            "Requirement already satisfied: shellingham>=1.3.0 in c:\\users\\jclle\\appdata\\local\\programs\\python\\python313\\lib\\site-packages (from typer>=0.9.0->chromadb) (1.5.4)\n",
            "Requirement already satisfied: httptools>=0.6.3 in c:\\users\\jclle\\appdata\\local\\programs\\python\\python313\\lib\\site-packages (from uvicorn[standard]>=0.18.3->chromadb) (0.6.4)\n",
            "Requirement already satisfied: python-dotenv>=0.13 in c:\\users\\jclle\\appdata\\local\\programs\\python\\python313\\lib\\site-packages (from uvicorn[standard]>=0.18.3->chromadb) (1.1.0)\n",
            "Requirement already satisfied: watchfiles>=0.13 in c:\\users\\jclle\\appdata\\local\\programs\\python\\python313\\lib\\site-packages (from uvicorn[standard]>=0.18.3->chromadb) (1.0.5)\n",
            "Requirement already satisfied: websockets>=10.4 in c:\\users\\jclle\\appdata\\local\\programs\\python\\python313\\lib\\site-packages (from uvicorn[standard]>=0.18.3->chromadb) (15.0.1)\n",
            "Requirement already satisfied: humanfriendly>=9.1 in c:\\users\\jclle\\appdata\\local\\programs\\python\\python313\\lib\\site-packages (from coloredlogs->onnxruntime>=1.14.1->chromadb) (10.0)\n",
            "Requirement already satisfied: pyreadline3 in c:\\users\\jclle\\appdata\\local\\programs\\python\\python313\\lib\\site-packages (from humanfriendly>=9.1->coloredlogs->onnxruntime>=1.14.1->chromadb) (3.5.4)\n",
            "Requirement already satisfied: mpmath<1.4,>=1.1.0 in c:\\users\\jclle\\appdata\\local\\programs\\python\\python313\\lib\\site-packages (from sympy->onnxruntime>=1.14.1->chromadb) (1.3.0)\n"
          ]
        }
      ],
      "source": [
        "!pip install langchain chromadb"
      ]
    },
    {
      "cell_type": "markdown",
      "metadata": {
        "id": "Qku_ST8MSC6Q"
      },
      "source": [
        "## **1) 필요한 라이브러리 설치**\n",
        "\n",
        "---\n",
        "\n",
        "```\n",
        "LangChain과 ChromaDB를 설치합니다.\n",
        "```\n"
      ]
    },
    {
      "cell_type": "code",
      "execution_count": 2,
      "metadata": {
        "id": "OWgQLW1LR-av"
      },
      "outputs": [],
      "source": [
        "import pandas as pd\n",
        "import langchain\n",
        "import chromadb\n",
        "import os\n",
        "from langchain_community.document_loaders.csv_loader import CSVLoader\n",
        "from langchain.text_splitter import CharacterTextSplitter\n",
        "from langchain_openai import OpenAIEmbeddings\n",
        "from langchain.vectorstores import Chroma\n",
        "\n",
        "os.environ[\"OPENAI_API_KEY\"] = \"...\""
      ]
    },
    {
      "cell_type": "markdown",
      "metadata": {
        "id": "OCPnzMi8S64C"
      },
      "source": [
        "## **2) 소규모 데이터 세트 준비**\n",
        "\n",
        "---\n",
        "\n",
        "200개 항목으로 구성된 한국어 데이터 세트를 CSV 파일로 포맷한다.\n",
        "속담과 관용구로 데이터 세트를 제목과 설명 두 개의 열로 구성되어있다."
      ]
    },
    {
      "cell_type": "code",
      "execution_count": 3,
      "metadata": {
        "id": "NmMAPHQfS7Ea"
      },
      "outputs": [
        {
          "ename": "RuntimeError",
          "evalue": "Error loading /content/nanolabdataset.csv",
          "output_type": "error",
          "traceback": [
            "\u001b[31m---------------------------------------------------------------------------\u001b[39m",
            "\u001b[31mFileNotFoundError\u001b[39m                         Traceback (most recent call last)",
            "\u001b[36mFile \u001b[39m\u001b[32mc:\\Users\\jclle\\AppData\\Local\\Programs\\Python\\Python313\\Lib\\site-packages\\langchain_community\\document_loaders\\csv_loader.py:134\u001b[39m, in \u001b[36mCSVLoader.lazy_load\u001b[39m\u001b[34m(self)\u001b[39m\n\u001b[32m    133\u001b[39m \u001b[38;5;28;01mtry\u001b[39;00m:\n\u001b[32m--> \u001b[39m\u001b[32m134\u001b[39m     \u001b[38;5;28;01mwith\u001b[39;00m \u001b[38;5;28;43mopen\u001b[39;49m\u001b[43m(\u001b[49m\u001b[38;5;28;43mself\u001b[39;49m\u001b[43m.\u001b[49m\u001b[43mfile_path\u001b[49m\u001b[43m,\u001b[49m\u001b[43m \u001b[49m\u001b[43mnewline\u001b[49m\u001b[43m=\u001b[49m\u001b[33;43m\"\u001b[39;49m\u001b[33;43m\"\u001b[39;49m\u001b[43m,\u001b[49m\u001b[43m \u001b[49m\u001b[43mencoding\u001b[49m\u001b[43m=\u001b[49m\u001b[38;5;28;43mself\u001b[39;49m\u001b[43m.\u001b[49m\u001b[43mencoding\u001b[49m\u001b[43m)\u001b[49m \u001b[38;5;28;01mas\u001b[39;00m csvfile:\n\u001b[32m    135\u001b[39m         \u001b[38;5;28;01myield from\u001b[39;00m \u001b[38;5;28mself\u001b[39m.__read_file(csvfile)\n",
            "\u001b[31mFileNotFoundError\u001b[39m: [Errno 2] No such file or directory: '/content/nanolabdataset.csv'",
            "\nThe above exception was the direct cause of the following exception:\n",
            "\u001b[31mRuntimeError\u001b[39m                              Traceback (most recent call last)",
            "\u001b[36mCell\u001b[39m\u001b[36m \u001b[39m\u001b[32mIn[3]\u001b[39m\u001b[32m, line 6\u001b[39m\n\u001b[32m      1\u001b[39m \u001b[38;5;66;03m# CSV 파일 로드 및 문서 분리\u001b[39;00m\n\u001b[32m      2\u001b[39m \u001b[38;5;66;03m# CSVLoader를 사용하여 지정된 파일 경로에서 데이터를 로드합니다.\u001b[39;00m\n\u001b[32m      3\u001b[39m \u001b[38;5;66;03m# 'cp949' 인코딩을 사용하여 한글 데이터가 깨지지 않도록 처리합니다.\u001b[39;00m\n\u001b[32m      4\u001b[39m \u001b[38;5;66;03m# 로드된 데이터를 documents 변수에 저장합니다.\u001b[39;00m\n\u001b[32m      5\u001b[39m csv_loader = CSVLoader(file_path=\u001b[33m'\u001b[39m\u001b[33m/content/nanolabdataset.csv\u001b[39m\u001b[33m'\u001b[39m, encoding=\u001b[33m'\u001b[39m\u001b[33mcp949\u001b[39m\u001b[33m'\u001b[39m)\n\u001b[32m----> \u001b[39m\u001b[32m6\u001b[39m documents = \u001b[43mcsv_loader\u001b[49m\u001b[43m.\u001b[49m\u001b[43mload\u001b[49m\u001b[43m(\u001b[49m\u001b[43m)\u001b[49m\n\u001b[32m      8\u001b[39m \u001b[38;5;66;03m# 텍스트 분리기 초기화\u001b[39;00m\n\u001b[32m      9\u001b[39m \u001b[38;5;66;03m# CharacterTextSplitter는 텍스트를 일정 크기로 분리하는 도구입니다.\u001b[39;00m\n\u001b[32m     10\u001b[39m \u001b[38;5;66;03m# 'chunk_size=100'은 각 텍스트 조각의 최대 길이를 100자로 설정합니다.\u001b[39;00m\n\u001b[32m     11\u001b[39m \u001b[38;5;66;03m# 'chunk_overlap=0'은 텍스트 조각 간 중첩이 없도록 설정합니다.\u001b[39;00m\n\u001b[32m     12\u001b[39m text_splitter = CharacterTextSplitter(chunk_size=\u001b[32m100\u001b[39m, chunk_overlap=\u001b[32m0\u001b[39m)\n",
            "\u001b[36mFile \u001b[39m\u001b[32mc:\\Users\\jclle\\AppData\\Local\\Programs\\Python\\Python313\\Lib\\site-packages\\langchain_core\\document_loaders\\base.py:32\u001b[39m, in \u001b[36mBaseLoader.load\u001b[39m\u001b[34m(self)\u001b[39m\n\u001b[32m     30\u001b[39m \u001b[38;5;28;01mdef\u001b[39;00m\u001b[38;5;250m \u001b[39m\u001b[34mload\u001b[39m(\u001b[38;5;28mself\u001b[39m) -> \u001b[38;5;28mlist\u001b[39m[Document]:\n\u001b[32m     31\u001b[39m \u001b[38;5;250m    \u001b[39m\u001b[33;03m\"\"\"Load data into Document objects.\"\"\"\u001b[39;00m\n\u001b[32m---> \u001b[39m\u001b[32m32\u001b[39m     \u001b[38;5;28;01mreturn\u001b[39;00m \u001b[38;5;28;43mlist\u001b[39;49m\u001b[43m(\u001b[49m\u001b[38;5;28;43mself\u001b[39;49m\u001b[43m.\u001b[49m\u001b[43mlazy_load\u001b[49m\u001b[43m(\u001b[49m\u001b[43m)\u001b[49m\u001b[43m)\u001b[49m\n",
            "\u001b[36mFile \u001b[39m\u001b[32mc:\\Users\\jclle\\AppData\\Local\\Programs\\Python\\Python313\\Lib\\site-packages\\langchain_community\\document_loaders\\csv_loader.py:151\u001b[39m, in \u001b[36mCSVLoader.lazy_load\u001b[39m\u001b[34m(self)\u001b[39m\n\u001b[32m    149\u001b[39m         \u001b[38;5;28;01mraise\u001b[39;00m \u001b[38;5;167;01mRuntimeError\u001b[39;00m(\u001b[33mf\u001b[39m\u001b[33m\"\u001b[39m\u001b[33mError loading \u001b[39m\u001b[38;5;132;01m{\u001b[39;00m\u001b[38;5;28mself\u001b[39m.file_path\u001b[38;5;132;01m}\u001b[39;00m\u001b[33m\"\u001b[39m) \u001b[38;5;28;01mfrom\u001b[39;00m\u001b[38;5;250m \u001b[39m\u001b[34;01me\u001b[39;00m\n\u001b[32m    150\u001b[39m \u001b[38;5;28;01mexcept\u001b[39;00m \u001b[38;5;167;01mException\u001b[39;00m \u001b[38;5;28;01mas\u001b[39;00m e:\n\u001b[32m--> \u001b[39m\u001b[32m151\u001b[39m     \u001b[38;5;28;01mraise\u001b[39;00m \u001b[38;5;167;01mRuntimeError\u001b[39;00m(\u001b[33mf\u001b[39m\u001b[33m\"\u001b[39m\u001b[33mError loading \u001b[39m\u001b[38;5;132;01m{\u001b[39;00m\u001b[38;5;28mself\u001b[39m.file_path\u001b[38;5;132;01m}\u001b[39;00m\u001b[33m\"\u001b[39m) \u001b[38;5;28;01mfrom\u001b[39;00m\u001b[38;5;250m \u001b[39m\u001b[34;01me\u001b[39;00m\n",
            "\u001b[31mRuntimeError\u001b[39m: Error loading /content/nanolabdataset.csv"
          ]
        }
      ],
      "source": [
        "# CSV 파일 로드 및 문서 분리\n",
        "# CSVLoader를 사용하여 지정된 파일 경로에서 데이터를 로드합니다.\n",
        "# 'cp949' 인코딩을 사용하여 한글 데이터가 깨지지 않도록 처리합니다.\n",
        "# 로드된 데이터를 documents 변수에 저장합니다.\n",
        "csv_loader = CSVLoader(file_path='/content/nanolabdataset.csv', encoding='cp949')\n",
        "documents = csv_loader.load()\n",
        "\n",
        "# 텍스트 분리기 초기화\n",
        "# CharacterTextSplitter는 텍스트를 일정 크기로 분리하는 도구입니다.\n",
        "# 'chunk_size=100'은 각 텍스트 조각의 최대 길이를 100자로 설정합니다.\n",
        "# 'chunk_overlap=0'은 텍스트 조각 간 중첩이 없도록 설정합니다.\n",
        "text_splitter = CharacterTextSplitter(chunk_size=100, chunk_overlap=0)\n",
        "\n",
        "# 문서 분리 실행\n",
        "# 로드된 문서 데이터를 100자 크기로 분리하여 검색에 적합한 형식으로 변환합니다.\n",
        "texts = text_splitter.split_documents(documents)"
      ]
    },
    {
      "cell_type": "markdown",
      "metadata": {
        "id": "dDpiIJE0TXhG"
      },
      "source": [
        "## **3) ChromaDB에 데이터를 로드합니다**\n",
        "\n",
        "---\n",
        "\n",
        "원본 데이터를 검색 시스템에 적합하도록 전처리한다.\n",
        "\n",
        "데이터는 CharacterTextSplitter를 통해 100자로 나눠져 있다.\n",
        "LangChain 호환 임베딩 모델을 사용하여 설명 열을 벡터 임베딩으로 변환한다.\n",
        "\n",
        "OpenAIEmbeddings는 LangChain에서 제공하는 호환 벡터 임베딩 모델이다. 각 텍스트를 고차원 벡터로 변환한다.\n",
        "\n",
        "```\n",
        "texts\n",
        "OpenAIEmbeddings\n",
        "Chroma.from_documents\n",
        "```\n",
        "ChromaDB에 데이터 로드\n"
      ]
    },
    {
      "cell_type": "code",
      "execution_count": null,
      "metadata": {
        "id": "fBzOmxMbTXws"
      },
      "outputs": [],
      "source": [
        "# 벡터 임베딩 및 ChromaDB 저장\n",
        "# OpenAIEmbeddings는 LangChain에서 제공하는 임베딩 모델입니다.\n",
        "# 입력된 텍스트 데이터를 고차원 벡터로 변환하여 의미론적 검색에 사용됩니다.\n",
        "embeddings = OpenAIEmbeddings()\n",
        "\n",
        "# Chroma.from_documents()는 텍스트 데이터를 벡터로 변환한 후 ChromaDB 데이터베이스에 저장합니다.\n",
        "# 'texts'는 사전에 처리된 텍스트 조각이고, 'embeddings'는 이를 벡터화하는 데 사용됩니다.\n",
        "# 결과로 반환된 'vector_store'는 벡터 데이터베이스로, 검색에 사용됩니다.\n",
        "vector_store = Chroma.from_documents(texts, embeddings)\n",
        "# 검색기 생성\n",
        "retriever = vector_store.as_retriever(search_kwargs={\"k\": 10})  # 가장 유사한 2개 문서 검색\n",
        "\n",
        "system_template=\"\"\"Use the following pieces of context to answer the users question shortly.\n",
        "Given the following summaries of a long document and a question, create a final answer with references (\"SOURCES\"), use \"SOURCES\" in capital letters regardless of the number of sources.\n",
        "If you don't know the answer, just say that \"I don't know\", don't try to make up an answer.\n",
        "----------------\n",
        "{summaries}\n",
        "\n",
        "You MUST answer in Korean:\"\"\"\n",
        "\n"
      ]
    },
    {
      "cell_type": "markdown",
      "metadata": {
        "id": "Gu83UZwtU0QJ"
      },
      "source": [
        "## **4) 검색 파이프라인 구현**\n",
        "\n",
        "---\n",
        "\n",
        "데이터를 가지고 쿼리 시스템을 만듭니다.\n",
        "\n",
        "### **쿼리 시스템**\n",
        "쿼리 시스템은 사용자가 입력한 질문(쿼리)과 사전에 저장된 데이터베이스(ChromaDB)의 정보를 비교하여 가장 관련성이 높은 결과를 반환하는 기능을 구현합니다. 이 과정은 크게 사용자 입력 처리, 유사성 검색, 결과 반환 세 단계로 나뉩니다.\n",
        "\n",
        "직접 쿼리를 입력하고 결과를 출력하는 시스템으로 구현하였습니다.\n",
        "\n",
        "\n"
      ]
    },
    {
      "cell_type": "code",
      "execution_count": null,
      "metadata": {
        "collapsed": true,
        "id": "vdr2Q2vYKcBL"
      },
      "outputs": [],
      "source": [
        "# 사용자 입력 기반 검색 시스템\n",
        "# 사용자가 질문을 입력하면 시스템이 관련 데이터를 검색하고 결과를 반환합니다.\n",
        "while True:\n",
        "    user_query = input(\"질문을 입력하세요: (종료하려면 '종료'를 입력하세요): \").strip()\n",
        "    if user_query.lower() == '종료':\n",
        "        print(\"검색 시스템을 종료합니다.\")\n",
        "        break\n",
        "    # 사용자가 질문을 받고 처리한다.\n",
        "\n",
        "    # 검색 결과 가져오기\n",
        "    # 사용자의 질문(user_query)과 관련된 문서를 ChromaDB에서 검색\n",
        "    results = retriever.get_relevant_documents(user_query)\n",
        "\n",
        "    if results:\n",
        "      print(\"\\n[검색 결과]\")\n",
        "      # 검색된 결과 중 가장 관련성이 높은 첫 번째 결과만 출력\n",
        "    # 가장 첫 번째 결과만 출력\n",
        "      result = results[0]  # 첫 번째 결과 가져오기\n",
        "      print(f\"1. {result.page_content}\")\n",
        "      print(\"\\n\" + \"=\"*50 + \"\\n\")\n",
        "    else:\n",
        "      print(\"\\n관련 문서를 찾을 수 없습니다.\\n\")\n",
        "\n"
      ]
    }
  ],
  "metadata": {
    "colab": {
      "provenance": []
    },
    "kernelspec": {
      "display_name": "Python 3",
      "name": "python3"
    },
    "language_info": {
      "codemirror_mode": {
        "name": "ipython",
        "version": 3
      },
      "file_extension": ".py",
      "mimetype": "text/x-python",
      "name": "python",
      "nbconvert_exporter": "python",
      "pygments_lexer": "ipython3",
      "version": "3.13.2"
    }
  },
  "nbformat": 4,
  "nbformat_minor": 0
}
